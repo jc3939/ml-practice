{
 "cells": [
  {
   "cell_type": "code",
   "execution_count": 1,
   "metadata": {},
   "outputs": [],
   "source": [
    "import numpy as np\n",
    "from sklearn import datasets"
   ]
  },
  {
   "cell_type": "markdown",
   "metadata": {},
   "source": [
    "Formula:<br>\n",
    "$\\large p = \\frac{odds}{odds+1}$ <br>\n",
    "$\\large odds = e^{\\beta_{0}+\\beta_{1}x_{1}+\\beta_{2}x_{2}}$<br>\n",
    "$\\large p = \\frac{1}{1+e^{-(\\beta_{0}+\\beta_{1}x_{1}+\\beta_{2}x_{2})}}$"
   ]
  },
  {
   "cell_type": "code",
   "execution_count": 27,
   "metadata": {},
   "outputs": [],
   "source": [
    "cancer = datasets.load_breast_cancer()\n",
    "X = cancer.data\n",
    "y = cancer.target"
   ]
  },
  {
   "cell_type": "code",
   "execution_count": 29,
   "metadata": {},
   "outputs": [
    {
     "data": {
      "text/plain": [
       "array([[1.799e+01, 1.038e+01, 1.228e+02, ..., 2.654e-01, 4.601e-01,\n",
       "        1.189e-01],\n",
       "       [2.057e+01, 1.777e+01, 1.329e+02, ..., 1.860e-01, 2.750e-01,\n",
       "        8.902e-02],\n",
       "       [1.969e+01, 2.125e+01, 1.300e+02, ..., 2.430e-01, 3.613e-01,\n",
       "        8.758e-02],\n",
       "       ...,\n",
       "       [1.660e+01, 2.808e+01, 1.083e+02, ..., 1.418e-01, 2.218e-01,\n",
       "        7.820e-02],\n",
       "       [2.060e+01, 2.933e+01, 1.401e+02, ..., 2.650e-01, 4.087e-01,\n",
       "        1.240e-01],\n",
       "       [7.760e+00, 2.454e+01, 4.792e+01, ..., 0.000e+00, 2.871e-01,\n",
       "        7.039e-02]])"
      ]
     },
     "execution_count": 29,
     "metadata": {},
     "output_type": "execute_result"
    }
   ],
   "source": [
    "X"
   ]
  },
  {
   "cell_type": "code",
   "execution_count": 30,
   "metadata": {},
   "outputs": [],
   "source": [
    "beta = np.array([1]*len(X[0]))"
   ]
  },
  {
   "cell_type": "code",
   "execution_count": 21,
   "metadata": {},
   "outputs": [],
   "source": [
    "learning_rate = 0.1\n",
    "epsilon = 0.01"
   ]
  },
  {
   "cell_type": "code",
   "execution_count": 24,
   "metadata": {},
   "outputs": [],
   "source": [
    "def sigmoid(beta, features):\n",
    "    return 1.0/(1+np.exp(-1*np.dot(beta, features.T)))"
   ]
  },
  {
   "cell_type": "code",
   "execution_count": null,
   "metadata": {},
   "outputs": [],
   "source": [
    "def log_loss()"
   ]
  },
  {
   "cell_type": "code",
   "execution_count": 25,
   "metadata": {},
   "outputs": [
    {
     "data": {
      "text/plain": [
       "array([0.99996283, 0.99992515, 0.99991728, 0.99991728, 0.99996283,\n",
       "       0.9999888 , 0.99993872, 0.99995892, 0.99986363, 0.99993228,\n",
       "       0.9999796 , 0.9999546 , 0.99990858, 0.99979657, 0.99998633,\n",
       "       0.99999386, 0.9999833 , 0.99996637, 0.99998987, 0.99997746,\n",
       "       0.99997746, 0.99997746, 0.99991728, 0.99997508, 0.99996637,\n",
       "       0.99994455, 0.99996957, 0.99996957, 0.99996283, 0.99993872,\n",
       "       0.99993872, 0.99997746, 0.99998154, 0.99998763, 0.99993228,\n",
       "       0.99993228, 0.99997246, 0.99993228, 0.99986363, 0.99996283,\n",
       "       0.99995892, 0.99977518, 0.99988835, 0.99997746, 0.99998633,\n",
       "       0.99992515, 0.99997746, 0.99991728, 0.99997746, 0.99994983,\n",
       "       0.99999992, 0.99999983, 0.99999992, 0.99999795, 0.99999979,\n",
       "       0.99999938, 0.99999988, 0.99999083, 0.99999979, 0.99999815,\n",
       "       0.99998987, 0.99999954, 0.99999815, 0.99999972, 0.99999848,\n",
       "       0.99999983, 0.99999954, 0.99999876, 0.99999944, 0.99999795,\n",
       "       0.99999985, 0.99999932, 0.99999975, 0.99999963, 0.99999966,\n",
       "       0.99999979, 0.99999986, 0.99999992, 0.99999966, 0.99999724,\n",
       "       0.99999724, 0.99999663, 0.99999876, 0.99999979, 0.99999944,\n",
       "       0.99999981, 0.99999989, 0.99999938, 0.99999917, 0.99999833,\n",
       "       0.99999888, 0.99999972, 0.99999876, 0.99999083, 0.99999898,\n",
       "       0.99999925, 0.99999925, 0.99999959, 0.99999171, 0.99999908,\n",
       "       0.99999999, 0.99999981, 0.99999999, 0.99999994, 0.99999997,\n",
       "       1.        , 0.99999876, 0.99999999, 0.99999995, 1.        ,\n",
       "       0.99999995, 0.99999992, 0.99999997, 0.99999975, 0.9999999 ,\n",
       "       0.99999997, 0.99999995, 1.        , 1.        , 0.99999959,\n",
       "       0.99999999, 0.99999977, 1.        , 0.99999985, 0.99999998,\n",
       "       0.99999999, 0.99999983, 0.99999986, 0.99999995, 0.99999998,\n",
       "       0.99999999, 1.        , 0.99999996, 0.99999985, 0.99999985,\n",
       "       0.99999999, 0.99999998, 0.99999995, 0.99999983, 0.99999997,\n",
       "       0.99999998, 0.99999997, 0.99999981, 0.99999999, 0.99999999,\n",
       "       0.99999997, 0.99999985, 0.99999994, 0.99999997, 0.99999986])"
      ]
     },
     "execution_count": 25,
     "metadata": {},
     "output_type": "execute_result"
    }
   ],
   "source": [
    "def logistic_regression():\n",
    "    log_loss = -1*((np.dot(y, np.log(sigmoid(beta, X))))+np.dot((1-y), 1-np.log(sigmoid(beta, X))) )\n",
    "    "
   ]
  },
  {
   "cell_type": "code",
   "execution_count": null,
   "metadata": {},
   "outputs": [],
   "source": []
  },
  {
   "cell_type": "code",
   "execution_count": null,
   "metadata": {},
   "outputs": [],
   "source": []
  },
  {
   "cell_type": "code",
   "execution_count": null,
   "metadata": {},
   "outputs": [],
   "source": []
  },
  {
   "cell_type": "code",
   "execution_count": null,
   "metadata": {},
   "outputs": [],
   "source": []
  }
 ],
 "metadata": {
  "kernelspec": {
   "display_name": "Python 3",
   "language": "python",
   "name": "python3"
  },
  "language_info": {
   "codemirror_mode": {
    "name": "ipython",
    "version": 3
   },
   "file_extension": ".py",
   "mimetype": "text/x-python",
   "name": "python",
   "nbconvert_exporter": "python",
   "pygments_lexer": "ipython3",
   "version": "3.6.5"
  }
 },
 "nbformat": 4,
 "nbformat_minor": 2
}
